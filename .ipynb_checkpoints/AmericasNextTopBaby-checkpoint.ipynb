{
 "cells": [
  {
   "cell_type": "code",
   "execution_count": 1,
   "metadata": {},
   "outputs": [],
   "source": [
    "import json \n",
    "import pandas as pd \n",
    "import requests\n",
    "from pprint import pprint\n",
    "import NameDataModule as NDM"
   ]
  },
  {
   "cell_type": "code",
   "execution_count": 2,
   "metadata": {},
   "outputs": [
    {
     "name": "stdout",
     "output_type": "stream",
     "text": [
      "Get Done, Son!\n"
     ]
    }
   ],
   "source": [
    "popular_movies_df = NDM.GetPopularMovies()\n",
    "print(\"Get Done, Son!\")"
   ]
  },
  {
   "cell_type": "code",
   "execution_count": 3,
   "metadata": {},
   "outputs": [
    {
     "name": "stdout",
     "output_type": "stream",
     "text": [
      "<class 'pandas.core.frame.DataFrame'>\n",
      "RangeIndex: 8600 entries, 0 to 8599\n",
      "Data columns (total 14 columns):\n",
      "adult                8600 non-null bool\n",
      "backdrop_path        8432 non-null object\n",
      "genre_ids            8600 non-null object\n",
      "id                   8600 non-null int64\n",
      "original_language    8600 non-null object\n",
      "original_title       8600 non-null object\n",
      "overview             8600 non-null object\n",
      "popularity           8600 non-null float64\n",
      "poster_path          8566 non-null object\n",
      "release_date         8596 non-null object\n",
      "title                8600 non-null object\n",
      "video                8600 non-null bool\n",
      "vote_average         8600 non-null float64\n",
      "vote_count           8600 non-null int64\n",
      "dtypes: bool(2), float64(2), int64(2), object(8)\n",
      "memory usage: 823.1+ KB\n"
     ]
    }
   ],
   "source": [
    "popular_movies_df.info()"
   ]
  },
  {
   "cell_type": "code",
   "execution_count": 4,
   "metadata": {
    "scrolled": true
   },
   "outputs": [],
   "source": [
    "years = range(13,18)\n",
    "\n",
    "Top_Movies_DF = pd.DataFrame()\n",
    "\n",
    "for y in years:\n",
    "    year = f'20{y}'\n",
    "    top20_movies = popular_movies_df.loc[popular_movies_df['release_date'].str.contains(year)==True]\n",
    "    top20_moviesen = top20_movies[top20_movies['original_language']=='en']\n",
    "    top20_moviesen = top20_moviesen.sort_values('popularity', ascending=False).head(10)\n",
    "    top20_movies = top20_moviesen.drop(columns=['adult','backdrop_path','genre_ids','overview','poster_path','video'])\n",
    "    Top_Movies_DF = Top_Movies_DF.append(top20_movies)"
   ]
  },
  {
   "cell_type": "code",
   "execution_count": 5,
   "metadata": {
    "scrolled": true
   },
   "outputs": [
    {
     "name": "stdout",
     "output_type": "stream",
     "text": [
      "<class 'pandas.core.frame.DataFrame'>\n",
      "Int64Index: 50 entries, 76 to 666\n",
      "Data columns (total 8 columns):\n",
      "id                   50 non-null int64\n",
      "original_language    50 non-null object\n",
      "original_title       50 non-null object\n",
      "popularity           50 non-null float64\n",
      "release_date         50 non-null object\n",
      "title                50 non-null object\n",
      "vote_average         50 non-null float64\n",
      "vote_count           50 non-null int64\n",
      "dtypes: float64(2), int64(2), object(4)\n",
      "memory usage: 3.5+ KB\n"
     ]
    }
   ],
   "source": [
    "Top_Movies_DF.info()"
   ]
  },
  {
   "cell_type": "code",
   "execution_count": null,
   "metadata": {},
   "outputs": [],
   "source": [
    "apikey = 'e3ea857e'\n",
    "characters = []\n",
    "for movie in Top_Movies_DF['title']:\n",
    "    Character_List = NDM.GetCharacters(apikey, movie)\n",
    "    \n",
    "    if Character_List != []:\n",
    "        characters.append(Character_List)\n",
    "    else:\n",
    "        characters.append('')\n",
    "        \n",
    "Top_Movies_DF['characters'] = characters\n",
    "print(\"Get Done, Son!\")"
   ]
  },
  {
   "cell_type": "code",
   "execution_count": null,
   "metadata": {},
   "outputs": [],
   "source": [
    "Top_Movies_DF_clean = Top_Movies_DF[Top_Movies_DF['characters'] != ''].reset_index(drop=True)\n",
    "Top_Movies_DF_clean.head()"
   ]
  },
  {
   "cell_type": "code",
   "execution_count": null,
   "metadata": {},
   "outputs": [],
   "source": [
    "popular_tv_shows_df = NDM.GetPopularTVShows()\n",
    "print(\"Get Done, Son!\")\n",
    "popular_tv_shows_df.info()"
   ]
  },
  {
   "cell_type": "code",
   "execution_count": null,
   "metadata": {},
   "outputs": [],
   "source": [
    "years = range(13,18)\n",
    "\n",
    "Top_Shows_DF = pd.DataFrame()\n",
    "\n",
    "for y in years:\n",
    "    year = f'20{y}'\n",
    "    top_shows = popular_tv_shows_df.loc[popular_tv_shows_df['first_air_date'].str.contains(year)==True]\n",
    "    top_showsen = top_shows[top_shows['original_language']=='en']\n",
    "    top10_showsen = top_showsen.sort_values('popularity', ascending=False).head(10)\n",
    "    top10_shows = top10_showsen.drop(columns=['backdrop_path','genre_ids','overview','poster_path'])\n",
    "    Top_Shows_DF = Top_Shows_DF.append(top10_shows)\n",
    "    \n",
    "Top_Shows_DF.info()"
   ]
  },
  {
   "cell_type": "code",
   "execution_count": null,
   "metadata": {},
   "outputs": [],
   "source": [
    "apikey = 'e3ea857e'\n",
    "characters = []\n",
    "for show in Top_Shows_DF['original_name']:\n",
    "    Character_List = NDM.GetCharacters(apikey, show)\n",
    "    \n",
    "    if Character_List != []:\n",
    "        characters.append(Character_List)\n",
    "    else:\n",
    "        characters.append('')\n",
    "        \n",
    "Top_Shows_DF['characters'] = characters\n",
    "print(\"Get Done, Son!\")\n",
    "Top_Shows_DF.head(50)"
   ]
  },
  {
   "cell_type": "code",
   "execution_count": null,
   "metadata": {},
   "outputs": [],
   "source": [
    "Top_Shows_DF = Top_Shows_DF[Top_Shows_DF['characters'] != '']\n",
    "Top_Shows_DF_clean = Top_Shows_DF[Top_Shows_DF['characters'] != '[unknown episodes ]'].reset_index(drop=True)\n",
    "Top_Shows_DF_clean.head()"
   ]
  },
  {
   "cell_type": "code",
   "execution_count": null,
   "metadata": {},
   "outputs": [],
   "source": [
    "BabyNames = pd.read_csv('Resources/most-popular-baby-names-2005-current-3.csv')"
   ]
  },
  {
   "cell_type": "code",
   "execution_count": null,
   "metadata": {},
   "outputs": [],
   "source": [
    "EmilyCount = BabyNames[BabyNames['Name']=='EMILY']['Count']\n",
    "Year = BabyNames[BabyNames['Name']=='EMILY']['YEAR']\n",
    "EmilyCount.sum()"
   ]
  },
  {
   "cell_type": "code",
   "execution_count": null,
   "metadata": {},
   "outputs": [],
   "source": [
    "import matplotlib.pyplot as plt\n",
    "\n",
    "plt.plot(Year, EmilyCount)"
   ]
  },
  {
   "cell_type": "code",
   "execution_count": null,
   "metadata": {},
   "outputs": [],
   "source": [
    "Emily"
   ]
  },
  {
   "cell_type": "code",
   "execution_count": null,
   "metadata": {},
   "outputs": [],
   "source": [
    "firstnames = []\n",
    "for names in Top_Movies_DF_clean['characters']:\n",
    "    for i in range(0,len(names)):\n",
    "        firstname = names[i].split()[0].upper()\n",
    "        if firstname not in firstnames:\n",
    "            firstnames.append(firstname)\n",
    "print(len(firstnames))\n",
    "for names in Top_Shows_DF_clean['characters']:\n",
    "    for i in range(0,len(names)):\n",
    "        firstname = names[i].split()[0].upper()\n",
    "        if firstname not in firstnames:\n",
    "            firstnames.append(firstname)\n",
    "print(firstnames)"
   ]
  },
  {
   "cell_type": "code",
   "execution_count": null,
   "metadata": {},
   "outputs": [],
   "source": [
    "for name in firstnames:\n",
    "    NameCount = BabyNames[BabyNames['Name']==name]['Count']\n",
    "    Year = BabyNames[BabyNames['Name']==name]['YEAR']\n",
    "\n",
    "    if NameCount.sum() != 0:\n",
    "        import matplotlib.pyplot as plt\n",
    "\n",
    "        plt.plot(Year, NameCount)\n",
    "        file = f'Resources/{name}.png'\n",
    "        plt.savefig(file)\n",
    "        plt.clf()"
   ]
  },
  {
   "cell_type": "code",
   "execution_count": null,
   "metadata": {},
   "outputs": [],
   "source": [
    "for name in firstnames:\n",
    "    NameCount = BabyNames[BabyNames['Name']==name]['Count']\n",
    "    Year = BabyNames[BabyNames['Name']==name]['YEAR']\n",
    "\n",
    "    if NameCount.sum() != 0:\n",
    "        import matplotlib.pyplot as plt\n",
    "\n",
    "        plt.plot(Year, NameCount)\n",
    "\n",
    "file = f'Resources/AllNames.png'\n",
    "plt.savefig(file)\n",
    "plt.show()"
   ]
  },
  {
   "cell_type": "code",
   "execution_count": null,
   "metadata": {},
   "outputs": [],
   "source": [
    "plt.clf()"
   ]
  },
  {
   "cell_type": "code",
   "execution_count": null,
   "metadata": {},
   "outputs": [],
   "source": [
    "for row in Top_Movies_DF_clean.index:\n",
    "    Top_Movies_DF_clean['characters'][row] = str(Top_Movies_DF_clean['characters'][row])"
   ]
  },
  {
   "cell_type": "code",
   "execution_count": null,
   "metadata": {},
   "outputs": [],
   "source": [
    "from matplotlib import pyplot as plt\n",
    "from scipy.stats import linregress\n",
    "import numpy as np\n",
    "import matplotlib.pyplot as plt\n",
    "\n",
    "Names_that_went_up = []\n",
    "for name in firstnames:\n",
    "    release_dates = Top_Movies_DF_clean[Top_Movies_DF_clean['characters'].str.contains(name)]['release_date'].values[0].split('-')[0]\n",
    "    release_dates\n",
    "\n",
    "    Count = list(BabyNames[BabyNames['Name'] == name.upper()]['Count'])\n",
    "    Year = list(BabyNames[BabyNames['Name'] == name.upper()]['YEAR'])\n",
    "\n",
    "    for release_date in release_dates:\n",
    "        ReleaseYearIndex = Year.index(int(release_date))\n",
    "\n",
    "        PreReleaseYears = Year[:ReleaseYearIndex]\n",
    "        PostReleaseYears = Year[ReleaseYearIndex:]\n",
    "\n",
    "        PreReleaseCount = Count[:ReleaseYearIndex]\n",
    "        PostReleaseCount = Count[ReleaseYearIndex:]\n",
    "\n",
    "        (preslope, intercept, _, _, _) = linregress(PreReleaseYears, PreReleaseCount)\n",
    "        (postslope, intercept, _, _, _) = linregress(PostReleaseYears, PostReleaseCount)\n",
    "\n",
    "        if postslope > preslope:\n",
    "            if name not in Names_that_went_up:\n",
    "                Names_that_went_up.append(name)\n",
    "print(Names_that_went_up)"
   ]
  },
  {
   "cell_type": "code",
   "execution_count": null,
   "metadata": {},
   "outputs": [],
   "source": []
  }
 ],
 "metadata": {
  "kernelspec": {
   "display_name": "Python 3",
   "language": "python",
   "name": "python3"
  },
  "language_info": {
   "codemirror_mode": {
    "name": "ipython",
    "version": 3
   },
   "file_extension": ".py",
   "mimetype": "text/x-python",
   "name": "python",
   "nbconvert_exporter": "python",
   "pygments_lexer": "ipython3",
   "version": "3.7.3"
  }
 },
 "nbformat": 4,
 "nbformat_minor": 4
}
