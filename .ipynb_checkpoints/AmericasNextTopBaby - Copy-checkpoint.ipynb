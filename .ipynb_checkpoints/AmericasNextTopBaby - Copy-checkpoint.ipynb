{
 "cells": [
  {
   "cell_type": "code",
   "execution_count": 1,
   "metadata": {},
   "outputs": [],
   "source": [
    "import json \n",
    "import pandas as pd \n",
    "import requests\n",
    "from pprint import pprint\n",
    "import NameDataModule as NDM"
   ]
  },
  {
   "cell_type": "code",
   "execution_count": 2,
   "metadata": {},
   "outputs": [
    {
     "name": "stdout",
     "output_type": "stream",
     "text": [
      "Get Done, Son!\n"
     ]
    }
   ],
   "source": [
    "popular_movies_df = NDM.GetPopularMovies()\n",
    "print(\"Get Done, Son!\")"
   ]
  },
  {
   "cell_type": "code",
   "execution_count": 3,
   "metadata": {},
   "outputs": [
    {
     "name": "stdout",
     "output_type": "stream",
     "text": [
      "<class 'pandas.core.frame.DataFrame'>\n",
      "RangeIndex: 9980 entries, 0 to 9979\n",
      "Data columns (total 14 columns):\n",
      "adult                9980 non-null bool\n",
      "backdrop_path        9832 non-null object\n",
      "genre_ids            9980 non-null object\n",
      "id                   9980 non-null int64\n",
      "original_language    9980 non-null object\n",
      "original_title       9980 non-null object\n",
      "overview             9980 non-null object\n",
      "popularity           9980 non-null float64\n",
      "poster_path          9954 non-null object\n",
      "release_date         9973 non-null object\n",
      "title                9980 non-null object\n",
      "video                9980 non-null bool\n",
      "vote_average         9980 non-null float64\n",
      "vote_count           9980 non-null int64\n",
      "dtypes: bool(2), float64(2), int64(2), object(8)\n",
      "memory usage: 955.2+ KB\n"
     ]
    }
   ],
   "source": [
    "popular_movies_df.info()"
   ]
  },
  {
   "cell_type": "code",
   "execution_count": 4,
   "metadata": {
    "scrolled": true
   },
   "outputs": [],
   "source": [
    "years = range(13,18)\n",
    "\n",
    "Top_Movies_DF = pd.DataFrame()\n",
    "\n",
    "for y in years:\n",
    "    year = f'20{y}'\n",
    "    top20_movies = popular_movies_df.loc[popular_movies_df['release_date'].str.contains(year)==True]\n",
    "    top20_moviesen = top20_movies[top20_movies['original_language']=='en']\n",
    "    top20_moviesen = top20_moviesen.sort_values('popularity', ascending=False).head(10)\n",
    "    top20_movies = top20_moviesen.drop(columns=['adult','backdrop_path','genre_ids','overview','poster_path','video'])\n",
    "    Top_Movies_DF = Top_Movies_DF.append(top20_movies)"
   ]
  },
  {
   "cell_type": "code",
   "execution_count": 5,
   "metadata": {
    "scrolled": true
   },
   "outputs": [
    {
     "name": "stdout",
     "output_type": "stream",
     "text": [
      "<class 'pandas.core.frame.DataFrame'>\n",
      "Int64Index: 50 entries, 80 to 966\n",
      "Data columns (total 8 columns):\n",
      "id                   50 non-null int64\n",
      "original_language    50 non-null object\n",
      "original_title       50 non-null object\n",
      "popularity           50 non-null float64\n",
      "release_date         50 non-null object\n",
      "title                50 non-null object\n",
      "vote_average         50 non-null float64\n",
      "vote_count           50 non-null int64\n",
      "dtypes: float64(2), int64(2), object(4)\n",
      "memory usage: 3.5+ KB\n"
     ]
    }
   ],
   "source": [
    "Top_Movies_DF.info()"
   ]
  },
  {
   "cell_type": "code",
   "execution_count": 6,
   "metadata": {},
   "outputs": [
    {
     "name": "stdout",
     "output_type": "stream",
     "text": [
      "Get Done, Son!\n"
     ]
    }
   ],
   "source": [
    "apikey = 'e3ea857e'\n",
    "characters = []\n",
    "for movie in Top_Movies_DF['title']:\n",
    "    Character_List = NDM.GetCharacters(apikey, movie)\n",
    "    \n",
    "    if Character_List != []:\n",
    "        characters.append(Character_List)\n",
    "    else:\n",
    "        characters.append('')\n",
    "        \n",
    "Top_Movies_DF['characters'] = characters\n",
    "print(\"Get Done, Son!\")"
   ]
  },
  {
   "cell_type": "code",
   "execution_count": 140,
   "metadata": {},
   "outputs": [
    {
     "data": {
      "text/html": [
       "<div>\n",
       "<style scoped>\n",
       "    .dataframe tbody tr th:only-of-type {\n",
       "        vertical-align: middle;\n",
       "    }\n",
       "\n",
       "    .dataframe tbody tr th {\n",
       "        vertical-align: top;\n",
       "    }\n",
       "\n",
       "    .dataframe thead th {\n",
       "        text-align: right;\n",
       "    }\n",
       "</style>\n",
       "<table border=\"1\" class=\"dataframe\">\n",
       "  <thead>\n",
       "    <tr style=\"text-align: right;\">\n",
       "      <th></th>\n",
       "      <th>id</th>\n",
       "      <th>original_language</th>\n",
       "      <th>original_title</th>\n",
       "      <th>popularity</th>\n",
       "      <th>release_date</th>\n",
       "      <th>title</th>\n",
       "      <th>vote_average</th>\n",
       "      <th>vote_count</th>\n",
       "      <th>characters</th>\n",
       "    </tr>\n",
       "  </thead>\n",
       "  <tbody>\n",
       "    <tr>\n",
       "      <th>0</th>\n",
       "      <td>109445</td>\n",
       "      <td>en</td>\n",
       "      <td>Frozen</td>\n",
       "      <td>39.823</td>\n",
       "      <td>2013-11-27</td>\n",
       "      <td>Frozen</td>\n",
       "      <td>7.3</td>\n",
       "      <td>10469</td>\n",
       "      <td>[Anna, Elsa, Kristoff, Olaf, Hans, Duke, Pabbi...</td>\n",
       "    </tr>\n",
       "    <tr>\n",
       "      <th>1</th>\n",
       "      <td>193756</td>\n",
       "      <td>en</td>\n",
       "      <td>Lone Survivor</td>\n",
       "      <td>36.254</td>\n",
       "      <td>2013-12-24</td>\n",
       "      <td>Lone Survivor</td>\n",
       "      <td>7.4</td>\n",
       "      <td>2440</td>\n",
       "      <td>[Marcus Luttrell, Michael Murphy, Danny Dietz,...</td>\n",
       "    </tr>\n",
       "    <tr>\n",
       "      <th>2</th>\n",
       "      <td>57158</td>\n",
       "      <td>en</td>\n",
       "      <td>The Hobbit: The Desolation of Smaug</td>\n",
       "      <td>25.965</td>\n",
       "      <td>2013-12-13</td>\n",
       "      <td>The Hobbit: The Desolation of Smaug</td>\n",
       "      <td>7.6</td>\n",
       "      <td>8157</td>\n",
       "      <td>[Gandalf, Bilbo, Thorin, Balin, Dwalin, Bifur,...</td>\n",
       "    </tr>\n",
       "    <tr>\n",
       "      <th>3</th>\n",
       "      <td>93456</td>\n",
       "      <td>en</td>\n",
       "      <td>Despicable Me 2</td>\n",
       "      <td>25.895</td>\n",
       "      <td>2013-07-03</td>\n",
       "      <td>Despicable Me 2</td>\n",
       "      <td>6.9</td>\n",
       "      <td>7732</td>\n",
       "      <td>[Gru, Lucy, Eduardo, Margo, Dr. Nefario, Silas...</td>\n",
       "    </tr>\n",
       "    <tr>\n",
       "      <th>4</th>\n",
       "      <td>106646</td>\n",
       "      <td>en</td>\n",
       "      <td>The Wolf of Wall Street</td>\n",
       "      <td>25.515</td>\n",
       "      <td>2013-12-25</td>\n",
       "      <td>The Wolf of Wall Street</td>\n",
       "      <td>8.0</td>\n",
       "      <td>13422</td>\n",
       "      <td>[Jordan Belfort, Donnie Azoff, Naomi Lapaglia,...</td>\n",
       "    </tr>\n",
       "  </tbody>\n",
       "</table>\n",
       "</div>"
      ],
      "text/plain": [
       "       id original_language                       original_title  popularity  \\\n",
       "0  109445                en                               Frozen      39.823   \n",
       "1  193756                en                        Lone Survivor      36.254   \n",
       "2   57158                en  The Hobbit: The Desolation of Smaug      25.965   \n",
       "3   93456                en                      Despicable Me 2      25.895   \n",
       "4  106646                en              The Wolf of Wall Street      25.515   \n",
       "\n",
       "  release_date                                title  vote_average  vote_count  \\\n",
       "0   2013-11-27                               Frozen           7.3       10469   \n",
       "1   2013-12-24                        Lone Survivor           7.4        2440   \n",
       "2   2013-12-13  The Hobbit: The Desolation of Smaug           7.6        8157   \n",
       "3   2013-07-03                      Despicable Me 2           6.9        7732   \n",
       "4   2013-12-25              The Wolf of Wall Street           8.0       13422   \n",
       "\n",
       "                                          characters  \n",
       "0  [Anna, Elsa, Kristoff, Olaf, Hans, Duke, Pabbi...  \n",
       "1  [Marcus Luttrell, Michael Murphy, Danny Dietz,...  \n",
       "2  [Gandalf, Bilbo, Thorin, Balin, Dwalin, Bifur,...  \n",
       "3  [Gru, Lucy, Eduardo, Margo, Dr. Nefario, Silas...  \n",
       "4  [Jordan Belfort, Donnie Azoff, Naomi Lapaglia,...  "
      ]
     },
     "execution_count": 140,
     "metadata": {},
     "output_type": "execute_result"
    }
   ],
   "source": [
    "Top_Movies_DF_clean = Top_Movies_DF[Top_Movies_DF['characters'] != ''].reset_index(drop=True)\n",
    "Top_Movies_DF_clean.head()"
   ]
  },
  {
   "cell_type": "code",
   "execution_count": 8,
   "metadata": {},
   "outputs": [
    {
     "name": "stdout",
     "output_type": "stream",
     "text": [
      "Get Done, Son!\n",
      "<class 'pandas.core.frame.DataFrame'>\n",
      "RangeIndex: 8980 entries, 0 to 8979\n",
      "Data columns (total 13 columns):\n",
      "backdrop_path        8160 non-null object\n",
      "first_air_date       8979 non-null object\n",
      "genre_ids            8980 non-null object\n",
      "id                   8980 non-null int64\n",
      "name                 8980 non-null object\n",
      "origin_country       8980 non-null object\n",
      "original_language    8980 non-null object\n",
      "original_name        8980 non-null object\n",
      "overview             8980 non-null object\n",
      "popularity           8980 non-null float64\n",
      "poster_path          8554 non-null object\n",
      "vote_average         8980 non-null float64\n",
      "vote_count           8980 non-null int64\n",
      "dtypes: float64(2), int64(2), object(9)\n",
      "memory usage: 912.1+ KB\n"
     ]
    }
   ],
   "source": [
    "popular_tv_shows_df = NDM.GetPopularTVShows()\n",
    "print(\"Get Done, Son!\")\n",
    "popular_tv_shows_df.info()"
   ]
  },
  {
   "cell_type": "code",
   "execution_count": 9,
   "metadata": {},
   "outputs": [
    {
     "name": "stdout",
     "output_type": "stream",
     "text": [
      "<class 'pandas.core.frame.DataFrame'>\n",
      "Int64Index: 50 entries, 2 to 122\n",
      "Data columns (total 9 columns):\n",
      "first_air_date       50 non-null object\n",
      "id                   50 non-null int64\n",
      "name                 50 non-null object\n",
      "origin_country       50 non-null object\n",
      "original_language    50 non-null object\n",
      "original_name        50 non-null object\n",
      "popularity           50 non-null float64\n",
      "vote_average         50 non-null float64\n",
      "vote_count           50 non-null int64\n",
      "dtypes: float64(2), int64(2), object(5)\n",
      "memory usage: 3.9+ KB\n"
     ]
    }
   ],
   "source": [
    "years = range(13,18)\n",
    "\n",
    "Top_Shows_DF = pd.DataFrame()\n",
    "\n",
    "for y in years:\n",
    "    year = f'20{y}'\n",
    "    top_shows = popular_tv_shows_df.loc[popular_tv_shows_df['first_air_date'].str.contains(year)==True]\n",
    "    top_showsen = top_shows[top_shows['original_language']=='en']\n",
    "    top10_showsen = top_showsen.sort_values('popularity', ascending=False).head(10)\n",
    "    top10_shows = top10_showsen.drop(columns=['backdrop_path','genre_ids','overview','poster_path'])\n",
    "    Top_Shows_DF = Top_Shows_DF.append(top10_shows)\n",
    "    \n",
    "Top_Shows_DF.info()"
   ]
  },
  {
   "cell_type": "code",
   "execution_count": 10,
   "metadata": {},
   "outputs": [],
   "source": [
    "apikey = 'e3ea857e'\n",
    "characters = []\n",
    "for show in Top_Shows_DF['original_name']:\n",
    "    Character_List = NDM.GetCharacters(apikey, show)\n",
    "    \n",
    "    if Character_List != []:\n",
    "        characters.append(Character_List)\n",
    "    else:\n",
    "        characters.append('')\n",
    "        \n",
    "Top_Shows_DF['characters'] = characters\n",
    "print(\"Get Done, Son!\")\n",
    "Top_Shows_DF.head(50)"
   ]
  },
  {
   "cell_type": "code",
   "execution_count": 141,
   "metadata": {},
   "outputs": [
    {
     "data": {
      "text/html": [
       "<div>\n",
       "<style scoped>\n",
       "    .dataframe tbody tr th:only-of-type {\n",
       "        vertical-align: middle;\n",
       "    }\n",
       "\n",
       "    .dataframe tbody tr th {\n",
       "        vertical-align: top;\n",
       "    }\n",
       "\n",
       "    .dataframe thead th {\n",
       "        text-align: right;\n",
       "    }\n",
       "</style>\n",
       "<table border=\"1\" class=\"dataframe\">\n",
       "  <thead>\n",
       "    <tr style=\"text-align: right;\">\n",
       "      <th></th>\n",
       "      <th>first_air_date</th>\n",
       "      <th>id</th>\n",
       "      <th>name</th>\n",
       "      <th>origin_country</th>\n",
       "      <th>original_language</th>\n",
       "      <th>original_name</th>\n",
       "      <th>popularity</th>\n",
       "      <th>vote_average</th>\n",
       "      <th>vote_count</th>\n",
       "      <th>characters</th>\n",
       "    </tr>\n",
       "  </thead>\n",
       "  <tbody>\n",
       "    <tr>\n",
       "      <th>0</th>\n",
       "      <td>2013-12-02</td>\n",
       "      <td>60625</td>\n",
       "      <td>Rick and Morty</td>\n",
       "      <td>[US]</td>\n",
       "      <td>en</td>\n",
       "      <td>Rick and Morty</td>\n",
       "      <td>466.554</td>\n",
       "      <td>8.6</td>\n",
       "      <td>1447</td>\n",
       "      <td>[Rick Sanchez, Jerry Smith, Summer Smith, Beth...</td>\n",
       "    </tr>\n",
       "    <tr>\n",
       "      <th>1</th>\n",
       "      <td>2013-09-17</td>\n",
       "      <td>48891</td>\n",
       "      <td>Brooklyn Nine-Nine</td>\n",
       "      <td>[US]</td>\n",
       "      <td>en</td>\n",
       "      <td>Brooklyn Nine-Nine</td>\n",
       "      <td>111.595</td>\n",
       "      <td>7.7</td>\n",
       "      <td>758</td>\n",
       "      <td>[Jake Peralta, Rosa Diaz, Terry Jeffords, Amy ...</td>\n",
       "    </tr>\n",
       "    <tr>\n",
       "      <th>2</th>\n",
       "      <td>2013-09-24</td>\n",
       "      <td>1403</td>\n",
       "      <td>Marvel's Agents of S.H.I.E.L.D.</td>\n",
       "      <td>[US]</td>\n",
       "      <td>en</td>\n",
       "      <td>Marvel's Agents of S.H.I.E.L.D.</td>\n",
       "      <td>110.262</td>\n",
       "      <td>6.8</td>\n",
       "      <td>1397</td>\n",
       "      <td>[unknown episodes\n",
       "                        ]</td>\n",
       "    </tr>\n",
       "    <tr>\n",
       "      <th>3</th>\n",
       "      <td>2013-09-23</td>\n",
       "      <td>46952</td>\n",
       "      <td>The Blacklist</td>\n",
       "      <td>[US]</td>\n",
       "      <td>en</td>\n",
       "      <td>The Blacklist</td>\n",
       "      <td>105.344</td>\n",
       "      <td>7.0</td>\n",
       "      <td>1082</td>\n",
       "      <td>[Raymond 'Red' Reddington, Elizabeth Keen, Don...</td>\n",
       "    </tr>\n",
       "    <tr>\n",
       "      <th>4</th>\n",
       "      <td>2013-03-03</td>\n",
       "      <td>44217</td>\n",
       "      <td>Vikings</td>\n",
       "      <td>[CA]</td>\n",
       "      <td>en</td>\n",
       "      <td>Vikings</td>\n",
       "      <td>80.744</td>\n",
       "      <td>7.5</td>\n",
       "      <td>1744</td>\n",
       "      <td>[Floki, Lagertha, Bjorn Lothbrok, Ragnar Lothb...</td>\n",
       "    </tr>\n",
       "  </tbody>\n",
       "</table>\n",
       "</div>"
      ],
      "text/plain": [
       "  first_air_date     id                             name origin_country  \\\n",
       "0     2013-12-02  60625                   Rick and Morty           [US]   \n",
       "1     2013-09-17  48891               Brooklyn Nine-Nine           [US]   \n",
       "2     2013-09-24   1403  Marvel's Agents of S.H.I.E.L.D.           [US]   \n",
       "3     2013-09-23  46952                    The Blacklist           [US]   \n",
       "4     2013-03-03  44217                          Vikings           [CA]   \n",
       "\n",
       "  original_language                    original_name  popularity  \\\n",
       "0                en                   Rick and Morty     466.554   \n",
       "1                en               Brooklyn Nine-Nine     111.595   \n",
       "2                en  Marvel's Agents of S.H.I.E.L.D.     110.262   \n",
       "3                en                    The Blacklist     105.344   \n",
       "4                en                          Vikings      80.744   \n",
       "\n",
       "   vote_average  vote_count                                         characters  \n",
       "0           8.6        1447  [Rick Sanchez, Jerry Smith, Summer Smith, Beth...  \n",
       "1           7.7         758  [Jake Peralta, Rosa Diaz, Terry Jeffords, Amy ...  \n",
       "2           6.8        1397        [unknown episodes\n",
       "                        ]  \n",
       "3           7.0        1082  [Raymond 'Red' Reddington, Elizabeth Keen, Don...  \n",
       "4           7.5        1744  [Floki, Lagertha, Bjorn Lothbrok, Ragnar Lothb...  "
      ]
     },
     "execution_count": 141,
     "metadata": {},
     "output_type": "execute_result"
    }
   ],
   "source": [
    "Top_Shows_DF = Top_Shows_DF[Top_Shows_DF['characters'] != '']\n",
    "Top_Shows_DF_clean = Top_Shows_DF[Top_Shows_DF['characters'] != '[unknown episodes ]'].reset_index(drop=True)\n",
    "Top_Shows_DF_clean.head()"
   ]
  },
  {
   "cell_type": "code",
   "execution_count": 14,
   "metadata": {},
   "outputs": [],
   "source": [
    "BabyNames = pd.read_csv('Resources/most-popular-baby-names-2005-current-3.csv')"
   ]
  },
  {
   "cell_type": "code",
   "execution_count": 35,
   "metadata": {},
   "outputs": [
    {
     "data": {
      "text/plain": [
       "32215"
      ]
     },
     "execution_count": 35,
     "metadata": {},
     "output_type": "execute_result"
    }
   ],
   "source": [
    "EmilyCount = BabyNames[BabyNames['Name']=='EMILY']['Count']\n",
    "Year = BabyNames[BabyNames['Name']=='EMILY']['YEAR']\n",
    "EmilyCount.sum()"
   ]
  },
  {
   "cell_type": "code",
   "execution_count": 28,
   "metadata": {},
   "outputs": [
    {
     "data": {
      "text/plain": [
       "[<matplotlib.lines.Line2D at 0x16b2c40d860>]"
      ]
     },
     "execution_count": 28,
     "metadata": {},
     "output_type": "execute_result"
    },
    {
     "data": {
      "image/png": "[encoded data removed]",
      "text/plain": [
       "<Figure size 432x288 with 1 Axes>"
      ]
     },
     "metadata": {
      "needs_background": "light"
     },
     "output_type": "display_data"
    }
   ],
   "source": [
    "import matplotlib.pyplot as plt\n",
    "\n",
    "plt.plot(Year, EmilyCount)"
   ]
  },
  {
   "cell_type": "code",
   "execution_count": 23,
   "metadata": {},
   "outputs": [
    {
     "data": {
      "text/html": [
       "<div>\n",
       "<style scoped>\n",
       "    .dataframe tbody tr th:only-of-type {\n",
       "        vertical-align: middle;\n",
       "    }\n",
       "\n",
       "    .dataframe tbody tr th {\n",
       "        vertical-align: top;\n",
       "    }\n",
       "\n",
       "    .dataframe thead th {\n",
       "        text-align: right;\n",
       "    }\n",
       "</style>\n",
       "<table border=\"1\" class=\"dataframe\">\n",
       "  <thead>\n",
       "    <tr style=\"text-align: right;\">\n",
       "      <th></th>\n",
       "      <th>YEAR</th>\n",
       "      <th>Gender</th>\n",
       "      <th>RANK</th>\n",
       "      <th>Name</th>\n",
       "      <th>Count</th>\n",
       "    </tr>\n",
       "  </thead>\n",
       "  <tbody>\n",
       "  </tbody>\n",
       "</table>\n",
       "</div>"
      ],
      "text/plain": [
       "Empty DataFrame\n",
       "Columns: [YEAR, Gender, RANK, Name, Count]\n",
       "Index: []"
      ]
     },
     "execution_count": 23,
     "metadata": {},
     "output_type": "execute_result"
    }
   ],
   "source": [
    "Emily"
   ]
  },
  {
   "cell_type": "code",
   "execution_count": 142,
   "metadata": {},
   "outputs": [
    {
     "name": "stdout",
     "output_type": "stream",
     "text": [
      "465\n",
      "['ANNA', 'ELSA', 'KRISTOFF', 'OLAF', 'HANS', 'DUKE', 'PABBIE', 'OAKEN', 'KAI', 'BULDA', 'BISHOP', 'KING', 'YOUNG', 'MARCUS', 'MICHAEL', 'DANNY', 'MATT', 'GULAB', 'ERIK', 'SHANE', 'JAMES', 'GANDALF', 'BILBO', 'THORIN', 'BALIN', 'DWALIN', 'BIFUR', 'BOFUR', 'BOMBUR', 'FILI', 'KILI', 'OIN', 'GLOIN', 'NORI', 'DORI', 'ORI', 'GRU', 'LUCY', 'EDUARDO', 'MARGO', 'DR.', 'SILAS', 'AGNES', 'EDITH', 'ANTONIO', 'SHANNON', 'KEVIN', 'ADDITIONAL', 'JORDAN', 'DONNIE', 'NAOMI', 'MARK', 'AGENT', 'MAX', 'BRAD', 'MANNY', 'JEAN', 'AUNT', 'TERESA', 'LEAH', 'CAPTAIN', 'CHANTALLE', 'NICKY', 'FRANK', 'MARVIN', 'SARAH', 'VICTORIA', 'BAILEY', 'HAN', 'KATJA', 'JACK', 'THE', 'IVAN', 'CLARK', 'LOIS', 'GENERAL', 'MARTHA', 'JOR-EL', 'FAORA-UL', 'COLONEL', 'JONATHAN', 'LARA', 'PERRY', 'JOHN', 'KOMAROV', 'IRINA', 'ALIK', 'COLLINS', 'MURPHY', 'CABBIE', 'TONY', 'PEPPER', 'ALDRICH', 'MAYA', 'HAPPY', 'TREVOR', 'SAVIN', 'BRANDT', 'JARVIS', 'PRESIDENT', 'HARLEY', 'VICE', 'DOCTOR', 'KELLER', 'DETECTIVE', 'NANCY', 'GRACE', 'FRANKLIN', 'HOLLY', 'ALEX', 'RALPH', 'ELIZA', 'BOB', 'VIGGO', 'IOSEF', 'AVI', 'MS.', 'GREGORI', 'VICTOR', 'KIRILL', 'HELEN', 'AURELIO', 'WINSTON', 'ADDY', 'HOTEL', 'PETER', 'GAMORA', 'DRAX', 'GROOT', 'ROCKET', 'RONAN', 'YONDU', 'NEBULA', 'KORATH', 'CORPSMAN', 'NOVA', 'MEREDITH', 'KRAGLIN', 'DENARIAN', 'BAYMAX', 'HIRO', 'TADASHI', 'FRED', 'GO', 'WASABI', 'HONEY', 'ROBERT', 'ALISTAIR', 'CASS', 'ABIGAIL', 'YAMA', 'MALEFICENT', 'AURORA', 'STEFAN', 'FLITTLE', 'KNOTGRASS', 'THISTLETWIT', 'DIAVAL', 'PRINCE', 'PRINCESS', 'TEEN', 'MURPH', 'COOPER', 'DONALD', 'TOM', 'SCHOOL', 'TARS', 'BRAND', 'SMITH', 'DOYLE', 'WILLIAMS', 'PROFESSOR', 'ROMILLY', 'NICK', 'AMY', 'DESI', 'TANNER', 'OFFICER', 'RAND', 'MARYBETH', 'ELLEN', 'ANDIE', 'GRETA', 'SHARON', 'ALAN', 'JOAN', 'HUGH', 'COMMANDER', 'STEWART', 'CHARLES', 'CHRISTOPHER', 'SERGEANT', 'EVA', 'LIZ', 'CALI', 'PAPA', 'BIG', 'CARMELO', 'DON', 'BOYD', 'NORMAN', 'TRINI', 'GRADY', 'LIEUTENANT', 'IRMA', 'EMMA', 'GUARDIAN', 'KYLE', \"O'BRIEN\", 'MILES', 'COP', 'LT.', 'JUPITER', 'CAINE', 'STINGER', 'BALEM', 'TITUS', 'KALIQUE', 'DIOMIKA', 'GEMMA', 'NESH', 'PHYLO', 'GREEGHAN', 'ALEKSA', 'IBIS', 'RAZO', 'JOY', 'SADNESS', 'BING', 'FEAR', 'ANGER', 'DISGUST', 'RILEY', 'MOM', 'DAD', 'SUBCONSCIOUS', 'JANGLES', 'JEANINE', 'ERIC', 'TRIS', 'FOUR', 'CALEB', 'JOHANNA', 'CHRISTINA', 'BLOFELD', 'MADELEINE', 'M', 'LUCIA', 'Q', 'MONEYPENNY', 'HINX', 'C', 'MR.', 'ESTRELLA', 'STEPMOTHER', 'CINDERELLA', 'FAIRY', 'GRAND', 'DRISELLA', 'ANASTASIA', \"ELLA'S\", 'ROYAL', 'LIZARD', 'RAYMOND', 'BLAKE', 'DANIEL', 'SERENA', 'BEN', 'OLLIE', 'SUSAN', 'JOBY', 'HARRISON', 'ALEXI', 'PHOEBE', 'MADELINE', 'ALBRIGHT', 'DAMIAN', 'MARTIN', 'CLAIRE', 'CARL', 'NIX', 'CASEY', 'ATHENA', 'EDDIE', 'HUGO', 'NATE', 'JENNY', 'SMALL', 'SEBASTIAN', 'MIA', 'TRACY', 'ALEXIS', 'CAITLIN', 'LAURA', 'BILL', 'KAREN', 'JUDY', 'CHIEF', 'BELLWETHER', 'CLAWHAUSER', 'BONNIE', 'STU', 'YAX', 'MAYOR', 'MRS.', 'GAZELLE', 'FLASH', 'STEVE', 'NATASHA', 'BUCKY', 'SAM', 'CLINT', \"T'CHALLA\", 'VISION', 'WANDA', 'SCOTT', 'ZEMO', 'BROCK', 'WADE', 'DOPINDER', 'AJAX', 'WARLORD', 'COLOSSUS', 'NEGASONIC', 'JEREMY', 'GAVIN', 'MEGHAN', 'BUCK', 'WEASEL', 'BOOTHE', 'VANESSA', 'BRUCE', 'LEX', 'ALFRED', 'SENATOR', 'DIANA', 'WALLACE', 'ANATOLI', 'MERCY', 'MORDO', 'WONG', 'KAECILIUS', 'LUCIAN', 'BRUNETTE', 'TALL', 'BLONDE', 'HAMIR', 'TINA', 'DESMOND', 'TEACH', 'LUCKY', 'BERTHA', 'DOROTHY', 'NEWT', 'CUSTOMS', 'WITNESS', 'REPORTER', 'GRAVES', 'MARY', 'JACOB', 'CREDENCE', 'MODESTY', 'CHASTITY', 'DANA', 'LOUIS', 'JANINE', 'WALTER', 'MALE', 'FEMALE', 'GOZER', 'LIBRARIAN', 'DEAN', 'KATHERINE', 'AL', 'VIVIAN', 'PAUL', 'LEVI', 'RUTH', 'KARL', 'ADRIAN', 'MAY', 'MICHELLE', 'AARON', 'NED', 'HERMAN', 'ANNE', 'ABE', 'COACH', 'THOR', 'LOKI', 'HELA', 'HEIMDALL', 'GRANDMASTER', 'VALKYRIE', 'SKURGE', 'ODIN', 'KORG', 'TOPAZ', 'SURTUR', 'HOGUN', \"'K'\", 'SAPPER', 'INTERVIEWER', 'JOI', 'NANDEZ', 'COCO', 'FILE', 'LUV', 'GAFF', 'NIANDER', 'FREYSA', 'MARIETTE', 'PRESTON', 'MASON', 'HANK', 'HOUSTON', 'SAN', 'MILLS', 'COLE', 'SLIVKO', 'RELES', 'LANDSAT', 'BEAST', 'LEFOU', 'MAURICE', 'BELLE', 'LUMIERE', 'CHIP', 'COGSWORTH', 'GASTON', 'WARDROBE', 'BIMBETTE', 'STOVE', 'BOOKSELLER', 'MONSIEUR', 'BAKER', 'MIGUEL', 'HÉCTOR', 'ERNESTO', 'MAMÁ', 'ABUELITA', 'PAPÁ', 'TÍO', 'CLERK', 'PLAZA', 'FRIDA', 'TÍA', 'CHICHARRÓN', 'BATMAN', 'SUPERMAN', 'WONDER', 'AQUAMAN', 'CYBORG', 'QUEEN', 'COMMISSIONER', 'STEPPENWOLF', 'MERA', 'MENALIPPE', 'BABY', 'GRIFF', 'BUDDY', 'DARLING', 'DEBORA', 'DOC', 'JOSEPH', 'RICK', 'JERRY', 'SUMMER', 'BETH', 'JESSICA', 'SQUANCHY', 'ABRADOLPH', 'JAKE', 'ROSA', 'TERRY', 'HITCHCOCK', 'SCULLY', 'GINA', 'UNKNOWN', 'ELIZABETH', 'HAROLD', 'DEMBE', 'ARAM', 'SAMAR', 'FLOKI', 'LAGERTHA', 'BJORN', 'RAGNAR', 'ROLLO', 'TORVI', 'IVAR', 'JUDITH', 'HELGA', 'UBBE', 'AETHELWULF', 'FREYDIS', 'ATHELSTAN', 'HVITSERK', 'THOMAS', 'ARTHUR', 'ADA', 'CHARLIE', 'CURLY', 'FINN', 'JOHNNY', 'LIZZIE', 'LINDA', 'ESME', 'ISIAH', 'SKYE', 'RUBBLE', \"CAP'N\", 'ROCKY', 'ZUMA', '80', '79', '78', 'CHASE', '68', '64', '61', 'PIPER', 'GALINA', 'SUZANNE', 'TASHA', 'DAYANARA', 'GLORIA', 'JOE', 'LORNA', 'TIFFANY', 'MARISOL', 'CINDY', 'MARIA', 'ALEIDA', 'BLANCA', 'JOEL', 'FRIEDA', 'MARITZA', 'JANAE', 'LEANNE', 'POUSSEY', 'ANGIE', 'YOGA', 'NATALIE', 'NORMA', 'ANITA', 'BROOK', 'ZIRCONIA', 'SOPHIA', 'CO', 'KLAUS', 'ELIJAH', 'MARCEL', 'HAYLEY', 'VINCENT', 'DAVINA', 'CAMILLE', 'FREYA', 'JOSH', 'REBEKAH', 'RAY', 'BUNCHY', 'LENA', 'DARYLL', 'BRIDGET', 'MICKEY', 'CONOR', 'ABBY', 'BARRY', 'IRIS', 'CISCO', 'HARVEY', 'OSWALD', 'SELINA', 'EDWARD', 'BARBARA', 'LESLIE', 'LUCIUS', 'GOTHAM', 'BUTCH', 'TABITHA', 'NATHANIEL', 'CLARKE', 'BELLAMY', 'OCTAVIA', 'RAVEN', 'MONTY', 'THELONIOUS', 'JASPER', 'NATHAN', 'ECHO', 'INDRA', 'HARPER', 'LINCOLN', 'RICHARD', 'NELSON', 'BERTRAM', 'DINESH', 'MONICA', 'JIAN', 'LAURIE', 'ERLICH', 'RUSS', 'HOOVER', 'JAY', 'ADAM', 'KIM', 'TRUDY', 'ALVIN', 'ERIN', 'HAILEY', 'JANE', 'XIOMARA', 'PETRA', 'ALBA', 'ROGELIO', '100', 'RAFAEL', '45', 'MAGDA', 'ANNALISE', 'CONNOR', 'MICHAELA', 'ASHER', 'OLIVER', 'LAUREL', 'WES', 'TEGAN', 'JAMIE', 'MURTAGH', 'ANGELA', 'TOMMY', 'DRE', 'TARIQ', 'LAKEISHA', 'KANAN', 'JULIO', 'MIKE', 'GREG', 'RUIZ', '2-BIT', 'SAC', 'COUNCILMAN', 'BOJACK', 'DIANE', 'TODD', 'ALICIA', 'LUCIANA', 'MADISON', 'OFELIA', 'MORGAN', 'ALTHEA', 'JUNE', 'KARA', \"J'ONN\", 'WINN', 'MON-EL', 'ELLIOT', 'DARLENE', 'TYRELL', 'PHILLIP', 'DOMINIQUE', 'JOANNA', 'WHITEROSE', 'JIM', 'AMOS', 'CHRISJEN', 'ROBERTA', 'SADAVIR', 'JULIE', 'KURT', 'EDGAR', 'PATTERSON', 'FBI', 'ROMAN', 'RICH', 'WILL', 'APRIL', 'ETHAN', 'MAGGIE', '67', 'NURSE', 'PARAMEDIC', 'AVA', '43', 'JULIANA', 'INSPECTOR', 'OBERGRUPPENFÜHRER', 'NOBUSUKE', 'ED', 'JENNIFER', 'KOTOMICHI', 'WYATT', 'NICOLE', 'LEM', 'LUCIOUS', 'HAKEEM', 'ANDRE', 'COOKIE', 'PORSHA', 'BECKY', 'JAMAL', 'TIANA', 'ANIKA', 'THIRSTY', 'CHICKEN', 'SHYNE', 'RHONDA', 'OLIVIA', 'CLIVE', 'RAVI', 'MAJOR', 'BLAINE', 'PEYTON', 'DALE', 'LUCIFER', 'CHLOE', 'DAN', 'MAZIKEEN', 'TRIXIE', 'AMENADIEL', 'ELLA', 'CHARLOTTE', 'JOYCE', 'ELEVEN', 'DUSTIN', 'LUCAS', 'BILLY', 'TED', 'ERICA', 'REBECCA', 'RANDALL', 'KATE', 'TOBY', 'TESS', 'ANNIE', '10', '17', '12', 'DÉJÀ', 'WILLIAM', 'SARA', 'GIDEON', 'MICK', 'AMAYA', 'JEFFERSON', 'ZARI', 'RIP', 'DOLORES', 'BERNARD', 'MAN', 'MAEVE', 'TEDDY', 'CLEMENTINE', 'ASHLEY', 'LEE', 'ELSIE', 'HECTOR', 'SYLVESTER', 'LUTZ', 'PHILIP,', '13', 'ANTHONY', '11', 'LORD', '9', 'EMILY', 'SETH', 'HANNAH', '28', 'LYOR', 'ELEANOR', 'CHIDI', 'TAHANI', 'JANET', 'JASON', 'VAN', 'COUNT', \"FRANKENSTEIN'S\", 'ALEERA', 'VELKAN', 'IGOR', 'CARDINAL', 'VERONA', 'MARISHKA', 'CLARY', 'JACE', 'SIMON', 'ALEC', 'ISABELLE', 'LUKE', 'MAGNUS', 'MAIA', 'RAPHAEL', 'VALENTINE', 'ARCHIE', 'BETTY', 'VERONICA', 'JUGHEAD', 'CHERYL', 'ALICE', 'HERMIONE', 'FP', 'HIRAM', 'TONI', 'JOSIE', 'SHERIFF', 'REGGIE', 'PENELOPE', 'HAL', 'POP', 'FANGS', 'SWEET', 'SIERRA', 'PRINCIPAL', 'MOOSE', 'ALYSSA', 'PHIL', 'GWEN', 'ALLEGRA', 'LEA', 'SHELDON', 'GEORGE', 'GEORGIE', 'MISSY', '52', 'CONNIE', 'TAM', 'RITA', 'ALMA', 'BRIANNA', 'MOIRA', 'ANDREW', 'JESSI', 'GHOST', 'MATTHEW', '23', 'MARTY', '18', '16', '15', 'DEVIN', '14', 'SONNY', 'TRENT', 'CLAY', 'MANDY', 'LISA', 'CERBERUS', 'MARI', 'AJ', 'HOLDEN', 'ADT', 'DEBBIE', 'GREGG', 'KAY', 'SGT.', 'CHRIS', 'DEACON', 'T.J.', 'BRIAN', 'CAPT.', 'TRAVIS', 'GUS']\n"
     ]
    }
   ],
   "source": [
    "firstnames = []\n",
    "for names in Top_Movies_DF_clean['characters']:\n",
    "    for i in range(0,len(names)):\n",
    "        firstname = names[i].split()[0].upper()\n",
    "        if firstname not in firstnames:\n",
    "            firstnames.append(firstname)\n",
    "print(len(firstnames))\n",
    "for names in Top_Shows_DF_clean['characters']:\n",
    "    for i in range(0,len(names)):\n",
    "        firstname = names[i].split()[0].upper()\n",
    "        if firstname not in firstnames:\n",
    "            firstnames.append(firstname)\n",
    "print(firstnames)"
   ]
  },
  {
   "cell_type": "code",
   "execution_count": 145,
   "metadata": {},
   "outputs": [
    {
     "data": {
      "text/plain": [
       "<Figure size 432x288 with 0 Axes>"
      ]
     },
     "metadata": {},
     "output_type": "display_data"
    }
   ],
   "source": [
    "for name in firstnames:\n",
    "    NameCount = BabyNames[BabyNames['Name']==name]['Count']\n",
    "    Year = BabyNames[BabyNames['Name']==name]['YEAR']\n",
    "\n",
    "    if NameCount.sum() != 0:\n",
    "        import matplotlib.pyplot as plt\n",
    "\n",
    "        plt.plot(Year, NameCount)\n",
    "        file = f'Resources/{name}.png'\n",
    "        plt.savefig(file)\n",
    "        plt.clf()"
   ]
  },
  {
   "cell_type": "code",
   "execution_count": 146,
   "metadata": {},
   "outputs": [
    {
     "data": {
      "image/png": "[encoded data removed]",
      "text/plain": [
       "<Figure size 432x288 with 1 Axes>"
      ]
     },
     "metadata": {
      "needs_background": "light"
     },
     "output_type": "display_data"
    }
   ],
   "source": [
    "for name in firstnames:\n",
    "    NameCount = BabyNames[BabyNames['Name']==name]['Count']\n",
    "    Year = BabyNames[BabyNames['Name']==name]['YEAR']\n",
    "\n",
    "    if NameCount.sum() != 0:\n",
    "        import matplotlib.pyplot as plt\n",
    "\n",
    "        plt.plot(Year, NameCount)\n",
    "\n",
    "file = f'Resources/AllNames.png'\n",
    "plt.savefig(file)\n",
    "plt.show()"
   ]
  },
  {
   "cell_type": "code",
   "execution_count": 147,
   "metadata": {},
   "outputs": [
    {
     "data": {
      "text/plain": [
       "<Figure size 432x288 with 0 Axes>"
      ]
     },
     "metadata": {},
     "output_type": "display_data"
    }
   ],
   "source": [
    "plt.clf()"
   ]
  },
  {
   "cell_type": "code",
   "execution_count": 125,
   "metadata": {},
   "outputs": [
    {
     "name": "stderr",
     "output_type": "stream",
     "text": [
      "C:\\Users\\farad\\Anaconda3\\lib\\site-packages\\ipykernel_launcher.py:2: SettingWithCopyWarning: \n",
      "A value is trying to be set on a copy of a slice from a DataFrame\n",
      "\n",
      "See the caveats in the documentation: http://pandas.pydata.org/pandas-docs/stable/indexing.html#indexing-view-versus-copy\n",
      "  \n"
     ]
    }
   ],
   "source": [
    "for row in Top_Movies_DF_clean.index:\n",
    "    Top_Movies_DF_clean['characters'][row] = str(Top_Movies_DF_clean['characters'][row])"
   ]
  },
  {
   "cell_type": "code",
   "execution_count": 126,
   "metadata": {},
   "outputs": [
    {
     "data": {
      "text/plain": [
       "'2016'"
      ]
     },
     "execution_count": 126,
     "metadata": {},
     "output_type": "execute_result"
    }
   ],
   "source": [
    "release_date = Top_Movies_DF_clean[Top_Movies_DF_clean['characters'].str.contains('Jacob')]['release_date'].values[0].split('-')[0]\n",
    "release_date"
   ]
  },
  {
   "cell_type": "code",
   "execution_count": 127,
   "metadata": {},
   "outputs": [],
   "source": [
    "Count = list(BabyNames[BabyNames['Name']=='JACOB']['Count'])\n",
    "Year = list(BabyNames[BabyNames['Name']=='JACOB']['YEAR'])"
   ]
  },
  {
   "cell_type": "code",
   "execution_count": 128,
   "metadata": {},
   "outputs": [
    {
     "data": {
      "text/plain": [
       "[2005, 2006, 2007, 2008, 2009, 2010, 2011, 2012, 2013, 2014, 2015, 2016, 2017]"
      ]
     },
     "execution_count": 128,
     "metadata": {},
     "output_type": "execute_result"
    }
   ],
   "source": [
    "Year"
   ]
  },
  {
   "cell_type": "code",
   "execution_count": 129,
   "metadata": {},
   "outputs": [
    {
     "data": {
      "text/plain": [
       "[2005, 2006, 2007, 2008, 2009, 2010, 2011, 2012, 2013, 2014, 2015]"
      ]
     },
     "execution_count": 129,
     "metadata": {},
     "output_type": "execute_result"
    }
   ],
   "source": [
    "ReleaseYearIndex = Year.index(int(release_date))\n",
    "Year[:ReleaseYearIndex]"
   ]
  },
  {
   "cell_type": "code",
   "execution_count": 130,
   "metadata": {},
   "outputs": [
    {
     "data": {
      "text/plain": [
       "[<matplotlib.lines.Line2D at 0x16b2ea61400>]"
      ]
     },
     "execution_count": 130,
     "metadata": {},
     "output_type": "execute_result"
    },
    {
     "data": {
      "image/png": "[encoded data removed]",
      "text/plain": [
       "<Figure size 432x288 with 1 Axes>"
      ]
     },
     "metadata": {
      "needs_background": "light"
     },
     "output_type": "display_data"
    }
   ],
   "source": [
    "import matplotlib.pyplot as plt\n",
    "\n",
    "plt.plot(Year, Count)"
   ]
  },
  {
   "cell_type": "code",
   "execution_count": 131,
   "metadata": {},
   "outputs": [],
   "source": [
    "ReleaseYearIndex = Year.index(int(release_date))\n",
    "\n",
    "PreReleaseYears = Year[:ReleaseYearIndex]\n",
    "PostReleaseYears = Year[ReleaseYearIndex:]\n",
    "\n",
    "PreReleaseCount = Count[:ReleaseYearIndex]\n",
    "PostReleaseCount = Count[ReleaseYearIndex:]"
   ]
  },
  {
   "cell_type": "code",
   "execution_count": 132,
   "metadata": {},
   "outputs": [
    {
     "name": "stdout",
     "output_type": "stream",
     "text": [
      "-48.39090909090909\n"
     ]
    },
    {
     "data": {
      "image/png": "[encoded data removed]",
      "text/plain": [
       "<Figure size 432x288 with 1 Axes>"
      ]
     },
     "metadata": {
      "needs_background": "light"
     },
     "output_type": "display_data"
    }
   ],
   "source": [
    "plt.plot(PreReleaseYears, PreReleaseCount)\n",
    "from matplotlib import pyplot as plt\n",
    "from scipy.stats import linregress\n",
    "import numpy as np\n",
    "(preslope, intercept, _, _, _) = linregress(PreReleaseYears, PreReleaseCount)\n",
    "print(preslope)"
   ]
  },
  {
   "cell_type": "code",
   "execution_count": 133,
   "metadata": {},
   "outputs": [
    {
     "name": "stdout",
     "output_type": "stream",
     "text": [
      "-205.0\n"
     ]
    },
    {
     "data": {
      "image/png": "[encoded data removed]",
      "text/plain": [
       "<Figure size 432x288 with 1 Axes>"
      ]
     },
     "metadata": {
      "needs_background": "light"
     },
     "output_type": "display_data"
    }
   ],
   "source": [
    "plt.plot(PostReleaseYears, PostReleaseCount)\n",
    "from matplotlib import pyplot as plt\n",
    "from scipy.stats import linregress\n",
    "import numpy as np\n",
    "(postslope, intercept, _, _, _) = linregress(PostReleaseYears, PostReleaseCount)\n",
    "print(postslope)"
   ]
  },
  {
   "cell_type": "code",
   "execution_count": 134,
   "metadata": {},
   "outputs": [
    {
     "name": "stdout",
     "output_type": "stream",
     "text": [
      "This data has no correlation between movie release and name popularity.\n"
     ]
    }
   ],
   "source": [
    "if postslope > preslope:\n",
    "    print(\"This data is relevant.\")\n",
    "else:\n",
    "    print(\"This data has no correlation between movie release and name popularity.\")"
   ]
  },
  {
   "cell_type": "code",
   "execution_count": null,
   "metadata": {},
   "outputs": [],
   "source": []
  }
 ],
 "metadata": {
  "kernelspec": {
   "display_name": "Python 3",
   "language": "python",
   "name": "python3"
  },
  "language_info": {
   "codemirror_mode": {
    "name": "ipython",
    "version": 3
   },
   "file_extension": ".py",
   "mimetype": "text/x-python",
   "name": "python",
   "nbconvert_exporter": "python",
   "pygments_lexer": "ipython3",
   "version": "3.7.3"
  }
 },
 "nbformat": 4,
 "nbformat_minor": 4
}
