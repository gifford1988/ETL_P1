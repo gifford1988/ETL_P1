{
 "cells": [
  {
   "cell_type": "code",
   "execution_count": 1,
   "metadata": {},
   "outputs": [
    {
     "ename": "ModuleNotFoundError",
     "evalue": "No module named 'NameDataModule'",
     "output_type": "error",
     "traceback": [
      "\u001b[1;31m---------------------------------------------------------------------------\u001b[0m",
      "\u001b[1;31mModuleNotFoundError\u001b[0m                       Traceback (most recent call last)",
      "\u001b[1;32m<ipython-input-1-65281ad06b99>\u001b[0m in \u001b[0;36m<module>\u001b[1;34m\u001b[0m\n\u001b[0;32m      3\u001b[0m \u001b[1;32mimport\u001b[0m \u001b[0mrequests\u001b[0m\u001b[1;33m\u001b[0m\u001b[1;33m\u001b[0m\u001b[0m\n\u001b[0;32m      4\u001b[0m \u001b[1;32mfrom\u001b[0m \u001b[0mpprint\u001b[0m \u001b[1;32mimport\u001b[0m \u001b[0mpprint\u001b[0m\u001b[1;33m\u001b[0m\u001b[1;33m\u001b[0m\u001b[0m\n\u001b[1;32m----> 5\u001b[1;33m \u001b[1;32mimport\u001b[0m \u001b[0mNameDataModule\u001b[0m \u001b[1;32mas\u001b[0m \u001b[0mNDM\u001b[0m\u001b[1;33m\u001b[0m\u001b[1;33m\u001b[0m\u001b[0m\n\u001b[0m",
      "\u001b[1;31mModuleNotFoundError\u001b[0m: No module named 'NameDataModule'"
     ]
    }
   ],
   "source": [
    "import json \n",
    "import pandas as pd \n",
    "import requests\n",
    "from pprint import pprint\n",
    "import NameDataModule as NDM"
   ]
  },
  {
   "cell_type": "code",
   "execution_count": null,
   "metadata": {},
   "outputs": [],
   "source": [
    "popular_movies_df = NDM.GetPopularMovies()\n",
    "print(\"Get Done, Son!\")\n",
    "\n",
    "years = range(13,18)\n",
    "\n",
    "Top_Movies_DF = pd.DataFrame()\n",
    "\n",
    "for y in years:\n",
    "    year = f'20{y}'\n",
    "    top20_movies = popular_movies_df.loc[popular_movies_df['release_date'].str.contains(year)==True]\n",
    "    top20_moviesen = top20_movies[top20_movies['original_language']=='en']\n",
    "    top20_moviesen = top20_moviesen.sort_values('popularity', ascending=False).head(10)\n",
    "    top20_movies = top20_moviesen.drop(columns=['adult','backdrop_path','genre_ids','overview','poster_path','video'])\n",
    "    Top_Movies_DF = Top_Movies_DF.append(top20_movies)\n",
    "\n",
    "\n",
    "apikey = 'e3ea857e'\n",
    "characters = []\n",
    "for movie in Top_Movies_DF['title']:\n",
    "    Character_List = NDM.GetCharacters(apikey, movie)\n",
    "    \n",
    "    if Character_List != []:\n",
    "        characters.append(Character_List)\n",
    "    else:\n",
    "        characters.append('')\n",
    "        \n",
    "Top_Movies_DF['characters'] = characters\n",
    "print(\"Get Done, Son!\")\n",
    "\n",
    "Top_Movies_DF_clean = Top_Movies_DF[Top_Movies_DF['characters'] != ''].reset_index(drop=True)\n",
    "Top_Movies_DF_clean.head()"
   ]
  },
  {
   "cell_type": "code",
   "execution_count": null,
   "metadata": {},
   "outputs": [],
   "source": [
    "popular_tv_shows_df = NDM.GetPopularTVShows()\n",
    "print(\"Get Done, Son!\")\n",
    "\n",
    "years = range(13,18)\n",
    "\n",
    "Top_Shows_DF = pd.DataFrame()\n",
    "\n",
    "for y in years:\n",
    "    year = f'20{y}'\n",
    "    top_shows = popular_tv_shows_df.loc[popular_tv_shows_df['first_air_date'].str.contains(year)==True]\n",
    "    top_showsen = top_shows[top_shows['original_language']=='en']\n",
    "    top10_showsen = top_showsen.sort_values('popularity', ascending=False).head(10)\n",
    "    top10_shows = top10_showsen.drop(columns=['backdrop_path','genre_ids','overview','poster_path'])\n",
    "    Top_Shows_DF = Top_Shows_DF.append(top10_shows)\n",
    "\n",
    "apikey = 'e3ea857e'\n",
    "characters = []\n",
    "for show in Top_Shows_DF['original_name']:\n",
    "    Character_List = NDM.GetCharacters(apikey, show)\n",
    "    \n",
    "    if Character_List != []:\n",
    "        characters.append(Character_List)\n",
    "    else:\n",
    "        characters.append('')\n",
    "        \n",
    "Top_Shows_DF['characters'] = characters\n",
    "print(\"Get Done, Son!\")\n",
    "\n",
    "Top_Shows_DF = Top_Shows_DF[Top_Shows_DF['characters'] != '']\n",
    "Top_Shows_DF_clean = Top_Shows_DF[Top_Shows_DF['characters'] != '[unknown episodes ]'].reset_index(drop=True)\n",
    "Top_Shows_DF_clean.head()"
   ]
  },
  {
   "cell_type": "code",
   "execution_count": null,
   "metadata": {},
   "outputs": [],
   "source": []
  }
 ],
 "metadata": {
  "kernelspec": {
   "display_name": "Python 3",
   "language": "python",
   "name": "python3"
  },
  "language_info": {
   "codemirror_mode": {
    "name": "ipython",
    "version": 3
   },
   "file_extension": ".py",
   "mimetype": "text/x-python",
   "name": "python",
   "nbconvert_exporter": "python",
   "pygments_lexer": "ipython3",
   "version": "3.7.3"
  }
 },
 "nbformat": 4,
 "nbformat_minor": 4
}
